{
 "cells": [
  {
   "cell_type": "code",
   "execution_count": 1,
   "metadata": {
    "tags": []
   },
   "outputs": [
    {
     "name": "stdout",
     "output_type": "stream",
     "text": [
      "Welcome to JupyROOT 6.28/04\n"
     ]
    }
   ],
   "source": [
    "import ROOT as root\n",
    "import numpy as np\n",
    "import matplotlib.pyplot as plt\n",
    "import pandas as pd\n",
    "import random"
   ]
  },
  {
   "cell_type": "code",
   "execution_count": 2,
   "metadata": {
    "tags": []
   },
   "outputs": [
    {
     "name": "stdout",
     "output_type": "stream",
     "text": [
      "TFile**\t\t../output.root\tmyFile\n",
      " TFile*\t\t../output.root\tmyFile\n",
      "  KEY: TTree\ttree;1\tTree for storing Geant4 data\n",
      "======> EVENT:1\n",
      " energyDep       = 1.5905\n",
      " positionX       = -6.28273\n",
      " positionY       = 0.525733\n",
      " positionZ       = 24.3177\n",
      "******************************************************************************\n",
      "*Tree    :tree      : Tree for storing Geant4 data                           *\n",
      "*Entries :      150 : Total =            7556 bytes  File  Size =       5620 *\n",
      "*        :          : Tree compression factor =   1.01                       *\n",
      "******************************************************************************\n",
      "*Br    0 :energyDep : energyDep/D                                            *\n",
      "*Entries :      150 : Total  Size=       1789 bytes  File Size  =       1259 *\n",
      "*Baskets :        1 : Basket Size=      32000 bytes  Compression=   1.01     *\n",
      "*............................................................................*\n",
      "*Br    1 :positionX : positionX/D                                            *\n",
      "*Entries :      150 : Total  Size=       1789 bytes  File Size  =       1262 *\n",
      "*Baskets :        1 : Basket Size=      32000 bytes  Compression=   1.01     *\n",
      "*............................................................................*\n",
      "*Br    2 :positionY : positionY/D                                            *\n",
      "*Entries :      150 : Total  Size=       1789 bytes  File Size  =       1276 *\n",
      "*Baskets :        1 : Basket Size=      32000 bytes  Compression=   1.00     *\n",
      "*............................................................................*\n",
      "*Br    3 :positionZ : positionZ/D                                            *\n",
      "*Entries :      150 : Total  Size=       1789 bytes  File Size  =       1241 *\n",
      "*Baskets :        1 : Basket Size=      32000 bytes  Compression=   1.03     *\n",
      "*............................................................................*\n"
     ]
    }
   ],
   "source": [
    "f = root.TFile(\"../output.root\")\n",
    "f.ls()\n",
    "\n",
    "myTree = f.Get(\"tree\")\n",
    "\n",
    "entries = myTree.GetEntriesFast()\n",
    "\n",
    "myTree.Show(1)\n",
    "myTree.Print()"
   ]
  },
  {
   "cell_type": "code",
   "execution_count": 3,
   "metadata": {},
   "outputs": [
    {
     "name": "stdout",
     "output_type": "stream",
     "text": [
      "******************************************************************************\n",
      "*Tree    :tree      : Tree for storing Geant4 data                           *\n",
      "*Entries :      150 : Total =            7540 bytes  File  Size =       5620 *\n",
      "*        :          : Tree compression factor =   1.01                       *\n",
      "******************************************************************************\n",
      "*Br    0 :energyDep : energyDep/D                                            *\n",
      "*Entries :      150 : Total  Size=       1785 bytes  File Size  =       1259 *\n",
      "*Baskets :        1 : Basket Size=      32000 bytes  Compression=   1.01     *\n",
      "*............................................................................*\n",
      "*Br    1 :positionX : positionX/D                                            *\n",
      "*Entries :      150 : Total  Size=       1785 bytes  File Size  =       1262 *\n",
      "*Baskets :        1 : Basket Size=      32000 bytes  Compression=   1.01     *\n",
      "*............................................................................*\n",
      "*Br    2 :positionY : positionY/D                                            *\n",
      "*Entries :      150 : Total  Size=       1785 bytes  File Size  =       1276 *\n",
      "*Baskets :        1 : Basket Size=      32000 bytes  Compression=   1.00     *\n",
      "*............................................................................*\n",
      "*Br    3 :positionZ : positionZ/D                                            *\n",
      "*Entries :      150 : Total  Size=       1785 bytes  File Size  =       1241 *\n",
      "*Baskets :        1 : Basket Size=      32000 bytes  Compression=   1.03     *\n",
      "*............................................................................*\n"
     ]
    }
   ],
   "source": [
    "fName = \"../output.root\"\n",
    "tName = \"tree\"\n",
    "\n",
    "f = root.TFile(fName)\n",
    "myTree = f.Get(tName)\n",
    "\n",
    "myTree.Print()\n",
    "\n",
    "root.EnableImplicitMT()\n",
    "d = root.RDataFrame(tName,fName)"
   ]
  },
  {
   "cell_type": "code",
   "execution_count": 4,
   "metadata": {},
   "outputs": [
    {
     "data": {
      "text/plain": [
       "True"
      ]
     },
     "execution_count": 4,
     "metadata": {},
     "output_type": "execute_result"
    }
   ],
   "source": [
    "triggerCode = '''\n",
    "auto fileName = \"../output.root\";\n",
    "auto treeName = \"tree\";\n",
    "\n",
    "TFile* f = new TFile((TString)fileName,\"READ\");\n",
    "TTree* t = (TTree*)f->Get(treeName);\n",
    "\n",
    "bool getTrigger(double edep, double x, double y, double z) {\n",
    "    return true;\n",
    "    }\n",
    "'''\n",
    "\n",
    "root.gInterpreter.Declare(triggerCode)"
   ]
  },
  {
   "cell_type": "code",
   "execution_count": 9,
   "metadata": {},
   "outputs": [
    {
     "ename": "NameError",
     "evalue": "name 'd' is not defined",
     "output_type": "error",
     "traceback": [
      "\u001b[0;31m---------------------------------------------------------------------------\u001b[0m",
      "\u001b[0;31mNameError\u001b[0m                                 Traceback (most recent call last)",
      "Cell \u001b[0;32mIn[9], line 1\u001b[0m\n\u001b[0;32m----> 1\u001b[0m fdf \u001b[38;5;241m=\u001b[39m \u001b[43md\u001b[49m\u001b[38;5;241m.\u001b[39mDefine(\u001b[38;5;124m\"\u001b[39m\u001b[38;5;124mtrigger\u001b[39m\u001b[38;5;124m\"\u001b[39m, \u001b[38;5;124m\"\u001b[39m\u001b[38;5;124mgetTrigger(energyDep, positionX, positionY, positionZ)\u001b[39m\u001b[38;5;124m\"\u001b[39m)\n",
      "\u001b[0;31mNameError\u001b[0m: name 'd' is not defined"
     ]
    }
   ],
   "source": [
    "fdf = d.Define(\"trigger\", \"getTrigger(energyDep, positionX, positionY, positionZ)\")"
   ]
  },
  {
   "cell_type": "code",
   "execution_count": 5,
   "metadata": {
    "tags": []
   },
   "outputs": [
    {
     "ename": "NameError",
     "evalue": "name 'fdft' is not defined",
     "output_type": "error",
     "traceback": [
      "\u001b[0;31m---------------------------------------------------------------------------\u001b[0m",
      "\u001b[0;31mNameError\u001b[0m                                 Traceback (most recent call last)",
      "Cell \u001b[0;32mIn[5], line 2\u001b[0m\n\u001b[1;32m      1\u001b[0m \u001b[38;5;66;03m# Canvas 1\u001b[39;00m\n\u001b[0;32m----> 2\u001b[0m hEdep \u001b[38;5;241m=\u001b[39m \u001b[43mfdft\u001b[49m\u001b[38;5;241m.\u001b[39mHisto1D((\u001b[38;5;124m\"\u001b[39m\u001b[38;5;124mh1\u001b[39m\u001b[38;5;124m\"\u001b[39m, \u001b[38;5;124m\"\u001b[39m\u001b[38;5;124mEdep\u001b[39m\u001b[38;5;124m\"\u001b[39m, \u001b[38;5;241m100\u001b[39m, \u001b[38;5;241m0.0\u001b[39m, \u001b[38;5;241m2.0\u001b[39m),\u001b[38;5;124m'\u001b[39m\u001b[38;5;124menergyDep\u001b[39m\u001b[38;5;124m'\u001b[39m)\n\u001b[1;32m      3\u001b[0m hXpos \u001b[38;5;241m=\u001b[39m fdft\u001b[38;5;241m.\u001b[39mHisto1D((\u001b[38;5;124m\"\u001b[39m\u001b[38;5;124mh2\u001b[39m\u001b[38;5;124m\"\u001b[39m, \u001b[38;5;124m\"\u001b[39m\u001b[38;5;124mXpos\u001b[39m\u001b[38;5;124m\"\u001b[39m, \u001b[38;5;241m100\u001b[39m, \u001b[38;5;241m-\u001b[39m\u001b[38;5;241m10.0\u001b[39m, \u001b[38;5;241m20.0\u001b[39m),\u001b[38;5;124m'\u001b[39m\u001b[38;5;124mpositionX\u001b[39m\u001b[38;5;124m'\u001b[39m)\n\u001b[1;32m      4\u001b[0m hYpos \u001b[38;5;241m=\u001b[39m fdft\u001b[38;5;241m.\u001b[39mHisto1D((\u001b[38;5;124m\"\u001b[39m\u001b[38;5;124mh3\u001b[39m\u001b[38;5;124m\"\u001b[39m, \u001b[38;5;124m\"\u001b[39m\u001b[38;5;124mYpos\u001b[39m\u001b[38;5;124m\"\u001b[39m, \u001b[38;5;241m100\u001b[39m, \u001b[38;5;241m-\u001b[39m\u001b[38;5;241m10.0\u001b[39m, \u001b[38;5;241m20.0\u001b[39m),\u001b[38;5;124m'\u001b[39m\u001b[38;5;124mpositionY\u001b[39m\u001b[38;5;124m'\u001b[39m)\n",
      "\u001b[0;31mNameError\u001b[0m: name 'fdft' is not defined"
     ]
    }
   ],
   "source": [
    "# Canvas 1\n",
    "hEdep = fdft.Histo1D((\"h1\", \"Edep\", 100, 0.0, 2.0),'energyDep')\n",
    "hXpos = fdft.Histo1D((\"h2\", \"Xpos\", 100, -10.0, 20.0),'positionX')\n",
    "hYpos = fdft.Histo1D((\"h3\", \"Ypos\", 100, -10.0, 20.0),'positionY')\n",
    "hZpos = fdft.Histo1D((\"h4\", \"ZPos\", 100, -10.0, 50.0),'positionZ')\n",
    "\n",
    "c1 = root.TCanvas(\"c1\",\"c1\",800,800)\n",
    "c1.Divide(2,2,0.01,0.01,0)\n",
    "\n",
    "c1.cd(1)\n",
    "hEdep.Draw()\n",
    "c1.cd(2)\n",
    "hXpos.Draw()\n",
    "c1.cd(3)\n",
    "hYpos.Draw()\n",
    "c1.cd(4)\n",
    "hZpos.Draw()\n",
    "\n",
    "c1.Draw()\n",
    "c1.Print(\"basic_plots.pdf\");"
   ]
  },
  {
   "cell_type": "code",
   "execution_count": null,
   "metadata": {
    "tags": []
   },
   "outputs": [],
   "source": [
    " "
   ]
  },
  {
   "cell_type": "code",
   "execution_count": null,
   "metadata": {
    "tags": []
   },
   "outputs": [],
   "source": []
  },
  {
   "cell_type": "code",
   "execution_count": null,
   "metadata": {},
   "outputs": [],
   "source": []
  },
  {
   "cell_type": "code",
   "execution_count": null,
   "metadata": {},
   "outputs": [],
   "source": []
  }
 ],
 "metadata": {
  "kernelspec": {
   "display_name": "Python 3 (ipykernel)",
   "language": "python",
   "name": "python3"
  },
  "language_info": {
   "codemirror_mode": {
    "name": "ipython",
    "version": 3
   },
   "file_extension": ".py",
   "mimetype": "text/x-python",
   "name": "python",
   "nbconvert_exporter": "python",
   "pygments_lexer": "ipython3",
   "version": "3.11.4"
  }
 },
 "nbformat": 4,
 "nbformat_minor": 4
}
