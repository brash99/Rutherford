{
 "cells": [
  {
   "cell_type": "code",
   "execution_count": 5,
   "metadata": {
    "tags": []
   },
   "outputs": [],
   "source": [
    "import ROOT as root\n",
    "import numpy as np \n",
    "import matplotlib.pyplot as plt\n",
    "import pandas as pd\n",
    "import random"
   ]
  },
  {
   "cell_type": "code",
   "execution_count": 6,
   "metadata": {},
   "outputs": [
    {
     "data": {
      "text/plain": [
       "False"
      ]
     },
     "execution_count": 6,
     "metadata": {},
     "output_type": "execute_result"
    },
    {
     "name": "stderr",
     "output_type": "stream",
     "text": [
      "input_line_156:8:6: error: redefinition of 'getTrigger'\n",
      "bool getTrigger(double edep, double x, double y, double z) {\n",
      "     ^\n",
      "input_line_53:8:6: note: previous definition is here\n",
      "bool getTrigger(double edep, double x, double y, double z) {\n",
      "     ^\n"
     ]
    }
   ],
   "source": [
    "triggerCode = '''\n",
    "//auto fileName = \"../rootfiles/output_geiger_30foils.root\";\n",
    "//auto treeName = \"tree\";\n",
    "\n",
    "//TFile* f = new TFile((TString)fileName,\"READ\");\n",
    "//TTree* t = (TTree*)f->Get(treeName);\n",
    "\n",
    "bool getTrigger(double edep, double x, double y, double z) {\n",
    "    if (edep > 0.05) {\n",
    "        return true;\n",
    "    } else {\n",
    "    return false;\n",
    "    }\n",
    "}\n",
    "'''\n",
    "\n",
    "root.gInterpreter.Declare(triggerCode)"
   ]
  },
  {
   "cell_type": "code",
   "execution_count": 9,
   "metadata": {
    "tags": []
   },
   "outputs": [
    {
     "name": "stdout",
     "output_type": "stream",
     "text": [
      "34 entries passed trigger\n",
      "43 entries passed trigger\n",
      "41 entries passed trigger\n",
      "68 entries passed trigger\n",
      "71 entries passed trigger\n",
      "70 entries passed trigger\n",
      "86 entries passed trigger\n",
      "78 entries passed trigger\n"
     ]
    },
    {
     "name": "stderr",
     "output_type": "stream",
     "text": [
      "Warning in <TCanvas::Constructor>: Deleting canvas with same name: c1\n"
     ]
    },
    {
     "data": {
      "image/png": "[encoded data removed]",
      "text/plain": [
       "<IPython.core.display.Image object>"
      ]
     },
     "metadata": {},
     "output_type": "display_data"
    }
   ],
   "source": [
    "thickness = [1,4,8,12,15,22,30,52]\n",
    "\n",
    "c1 = root.TCanvas(\"c1\",\"c1\",600,600)\n",
    "c1.Divide(4,2,0.01,0.01,0)\n",
    "\n",
    "hEdep = []\n",
    "counts = []\n",
    "\n",
    "for i in range(len(thickness)):\n",
    "\n",
    "    fName = \"../rootfiles/output_geiger_\" + str(thickness[i]) + \"foils.root\"\n",
    "    tName = \"tree\"\n",
    "\n",
    "    f = root.TFile(fName)\n",
    "    myTree = f.Get(tName)\n",
    "\n",
    "    entries = myTree.GetEntriesFast()\n",
    "\n",
    "    #myTree.Show(1)\n",
    "    #myTree.Print()\n",
    "\n",
    "    root.EnableImplicitMT()\n",
    "    d = root.RDataFrame(tName,fName)\n",
    "\n",
    "    fdf = d.Define(\"trigger\", \"getTrigger(energyDep, positionX, positionY, positionZ)\")\n",
    "\n",
    "    triggers = fdf.Filter(\"trigger==true\").Count()\n",
    "    print('{} entries passed trigger'.format(triggers.GetValue()))\n",
    "\n",
    "    counts.append(triggers.GetValue())\n",
    "\n",
    "    fdft = fdf.Filter(\"trigger==true\")\n",
    "\n",
    "    # Canvas 1\n",
    "    hEdep.append(fdft.Histo1D((\"h1\", \"Edep\", 100, 0.0, 4.0),'energyDep'))\n",
    "    #hXpos = fdft.Histo1D((\"h2\", \"Xpos\", 100, -10.0, 20.0),'positionX')\n",
    "    #hYpos = fdft.Histo1D((\"h3\", \"Ypos\", 100, -10.0, 20.0),'positionY')\n",
    "    #hZpos = fdft.Histo1D((\"h4\", \"ZPos\", 100, -10.0, 50.0),'positionZ')\n",
    "\n",
    "    c1.cd(i+1)\n",
    "    hEdep[i].Draw()\n",
    "    #c1.cd(2)\n",
    "    #hXpos.Draw()\n",
    "    #c1.cd(3)\n",
    "    #hYpos.Draw()\n",
    "    #c1.cd(4)\n",
    "    #hZpos.Draw()\n",
    "\n",
    "    c1.Update()\n",
    "    #c1.Print(\"basic_plots.pdf\");\n",
    "\n",
    "c1.Draw()"
   ]
  },
  {
   "cell_type": "code",
   "execution_count": 10,
   "metadata": {},
   "outputs": [
    {
     "data": {
      "image/png": "[encoded data removed]",
      "text/plain": [
       "<Figure size 640x480 with 1 Axes>"
      ]
     },
     "metadata": {},
     "output_type": "display_data"
    }
   ],
   "source": [
    "import numpy as np\n",
    "import matplotlib.pyplot as plt\n",
    "\n",
    "ecounts = np.sqrt(counts)\n",
    "\n",
    "plt.errorbar(thickness,counts,ecounts,fmt='o')\n",
    "plt.ylim(0)\n",
    "plt.xlabel(\"Number of Gold Foils\")\n",
    "plt.ylabel(\"Number of Detector Hits\")\n",
    "\n",
    "plt.show()"
   ]
  },
  {
   "cell_type": "code",
   "execution_count": null,
   "metadata": {},
   "outputs": [],
   "source": []
  },
  {
   "cell_type": "code",
   "execution_count": null,
   "metadata": {},
   "outputs": [],
   "source": []
  },
  {
   "cell_type": "code",
   "execution_count": null,
   "metadata": {
    "tags": []
   },
   "outputs": [],
   "source": []
  },
  {
   "cell_type": "code",
   "execution_count": null,
   "metadata": {
    "tags": []
   },
   "outputs": [],
   "source": [
    " "
   ]
  },
  {
   "cell_type": "code",
   "execution_count": null,
   "metadata": {
    "tags": []
   },
   "outputs": [],
   "source": []
  },
  {
   "cell_type": "code",
   "execution_count": null,
   "metadata": {},
   "outputs": [],
   "source": []
  },
  {
   "cell_type": "code",
   "execution_count": null,
   "metadata": {},
   "outputs": [],
   "source": []
  }
 ],
 "metadata": {
  "kernelspec": {
   "display_name": "Python 3 (ipykernel)",
   "language": "python",
   "name": "python3"
  },
  "language_info": {
   "codemirror_mode": {
    "name": "ipython",
    "version": 3
   },
   "file_extension": ".py",
   "mimetype": "text/x-python",
   "name": "python",
   "nbconvert_exporter": "python",
   "pygments_lexer": "ipython3",
   "version": "3.11.4"
  }
 },
 "nbformat": 4,
 "nbformat_minor": 4
}
