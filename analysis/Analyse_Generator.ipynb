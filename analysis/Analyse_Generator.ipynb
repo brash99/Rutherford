{
 "cells": [
  {
   "cell_type": "code",
   "execution_count": 1,
   "metadata": {
    "tags": []
   },
   "outputs": [
    {
     "name": "stdout",
     "output_type": "stream",
     "text": [
      "Welcome to JupyROOT 6.28/04\n"
     ]
    }
   ],
   "source": [
    "import ROOT as root\n",
    "import numpy as np\n",
    "import matplotlib.pyplot as plt\n",
    "import pandas as pd\n",
    "import random"
   ]
  },
  {
   "cell_type": "code",
   "execution_count": 2,
   "metadata": {
    "tags": []
   },
   "outputs": [
    {
     "name": "stdout",
     "output_type": "stream",
     "text": [
      "TFile**\t\t../output.root\tmyFile\n",
      " TFile*\t\t../output.root\tmyFile\n",
      "  KEY: TTree\ttree;1\tTree for storing Geant4 data\n",
      "======> EVENT:1\n",
      " energyDep       = 1.5905\n",
      " positionX       = -6.28273\n",
      " positionY       = 0.525733\n",
      " positionZ       = 24.3177\n",
      "******************************************************************************\n",
      "*Tree    :tree      : Tree for storing Geant4 data                           *\n",
      "*Entries :      150 : Total =            7556 bytes  File  Size =       5620 *\n",
      "*        :          : Tree compression factor =   1.01                       *\n",
      "******************************************************************************\n",
      "*Br    0 :energyDep : energyDep/D                                            *\n",
      "*Entries :      150 : Total  Size=       1789 bytes  File Size  =       1259 *\n",
      "*Baskets :        1 : Basket Size=      32000 bytes  Compression=   1.01     *\n",
      "*............................................................................*\n",
      "*Br    1 :positionX : positionX/D                                            *\n",
      "*Entries :      150 : Total  Size=       1789 bytes  File Size  =       1262 *\n",
      "*Baskets :        1 : Basket Size=      32000 bytes  Compression=   1.01     *\n",
      "*............................................................................*\n",
      "*Br    2 :positionY : positionY/D                                            *\n",
      "*Entries :      150 : Total  Size=       1789 bytes  File Size  =       1276 *\n",
      "*Baskets :        1 : Basket Size=      32000 bytes  Compression=   1.00     *\n",
      "*............................................................................*\n",
      "*Br    3 :positionZ : positionZ/D                                            *\n",
      "*Entries :      150 : Total  Size=       1789 bytes  File Size  =       1241 *\n",
      "*Baskets :        1 : Basket Size=      32000 bytes  Compression=   1.03     *\n",
      "*............................................................................*\n"
     ]
    }
   ],
   "source": [
    "f = root.TFile(\"../output.root\")\n",
    "f.ls()\n",
    "\n",
    "myTree = f.Get(\"tree\")\n",
    "\n",
    "entries = myTree.GetEntriesFast()\n",
    "\n",
    "myTree.Show(1)\n",
    "myTree.Print()"
   ]
  },
  {
   "cell_type": "code",
   "execution_count": 3,
   "metadata": {},
   "outputs": [
    {
     "name": "stdout",
     "output_type": "stream",
     "text": [
      "******************************************************************************\n",
      "*Tree    :tree      : Tree for storing Geant4 data                           *\n",
      "*Entries :      150 : Total =            7540 bytes  File  Size =       5620 *\n",
      "*        :          : Tree compression factor =   1.01                       *\n",
      "******************************************************************************\n",
      "*Br    0 :energyDep : energyDep/D                                            *\n",
      "*Entries :      150 : Total  Size=       1785 bytes  File Size  =       1259 *\n",
      "*Baskets :        1 : Basket Size=      32000 bytes  Compression=   1.01     *\n",
      "*............................................................................*\n",
      "*Br    1 :positionX : positionX/D                                            *\n",
      "*Entries :      150 : Total  Size=       1785 bytes  File Size  =       1262 *\n",
      "*Baskets :        1 : Basket Size=      32000 bytes  Compression=   1.01     *\n",
      "*............................................................................*\n",
      "*Br    2 :positionY : positionY/D                                            *\n",
      "*Entries :      150 : Total  Size=       1785 bytes  File Size  =       1276 *\n",
      "*Baskets :        1 : Basket Size=      32000 bytes  Compression=   1.00     *\n",
      "*............................................................................*\n",
      "*Br    3 :positionZ : positionZ/D                                            *\n",
      "*Entries :      150 : Total  Size=       1785 bytes  File Size  =       1241 *\n",
      "*Baskets :        1 : Basket Size=      32000 bytes  Compression=   1.03     *\n",
      "*............................................................................*\n"
     ]
    }
   ],
   "source": [
    "fName = \"../output.root\"\n",
    "tName = \"tree\"\n",
    "\n",
    "f = root.TFile(fName)\n",
    "myTree = f.Get(tName)\n",
    "\n",
    "myTree.Print()\n",
    "\n",
    "root.EnableImplicitMT()\n",
    "d = root.RDataFrame(tName,fName)"
   ]
  },
  {
   "cell_type": "code",
   "execution_count": 4,
   "metadata": {},
   "outputs": [
    {
     "data": {
      "text/plain": [
       "True"
      ]
     },
     "execution_count": 4,
     "metadata": {},
     "output_type": "execute_result"
    }
   ],
   "source": [
    "triggerCode = '''\n",
    "auto fileName = \"../output.root\";\n",
    "auto treeName = \"tree\";\n",
    "\n",
    "TFile* f = new TFile((TString)fileName,\"READ\");\n",
    "TTree* t = (TTree*)f->Get(treeName);\n",
    "\n",
    "bool getTrigger(double edep, double x, double y, double z) {\n",
    "    return true;\n",
    "    }\n",
    "'''\n",
    "\n",
    "root.gInterpreter.Declare(triggerCode)"
   ]
  },
  {
   "cell_type": "code",
   "execution_count": 6,
   "metadata": {},
   "outputs": [
    {
     "name": "stdout",
     "output_type": "stream",
     "text": [
      "150 entries passed trigger\n"
     ]
    }
   ],
   "source": [
    "fdf = d.Define(\"trigger\", \"getTrigger(energyDep, positionX, positionY, positionZ)\")\n",
    "\n",
    "triggers = fdf.Filter(\"trigger==true\").Count()\n",
    "print('{} entries passed trigger'.format(triggers.GetValue()))\n",
    "\n",
    "fdft = fdf.Filter(\"trigger==true\")"
   ]
  },
  {
   "cell_type": "code",
   "execution_count": 7,
   "metadata": {
    "tags": []
   },
   "outputs": [
    {
     "name": "stderr",
     "output_type": "stream",
     "text": [
      "Info in <TCanvas::Print>: pdf file basic_plots.pdf has been created\n"
     ]
    },
    {
     "data": {
      "image/png": "[encoded data removed]",
      "text/plain": [
       "<IPython.core.display.Image object>"
      ]
     },
     "metadata": {},
     "output_type": "display_data"
    }
   ],
   "source": [
    "# Canvas 1\n",
    "hEdep = fdft.Histo1D((\"h1\", \"Edep\", 100, 0.0, 2.0),'energyDep')\n",
    "hXpos = fdft.Histo1D((\"h2\", \"Xpos\", 100, -10.0, 20.0),'positionX')\n",
    "hYpos = fdft.Histo1D((\"h3\", \"Ypos\", 100, -10.0, 20.0),'positionY')\n",
    "hZpos = fdft.Histo1D((\"h4\", \"ZPos\", 100, -10.0, 50.0),'positionZ')\n",
    "\n",
    "c1 = root.TCanvas(\"c1\",\"c1\",800,800)\n",
    "c1.Divide(2,2,0.01,0.01,0)\n",
    "\n",
    "c1.cd(1)\n",
    "hEdep.Draw()\n",
    "c1.cd(2)\n",
    "hXpos.Draw()\n",
    "c1.cd(3)\n",
    "hYpos.Draw()\n",
    "c1.cd(4)\n",
    "hZpos.Draw()\n",
    "\n",
    "c1.Draw()\n",
    "c1.Print(\"basic_plots.pdf\");"
   ]
  },
  {
   "cell_type": "code",
   "execution_count": null,
   "metadata": {
    "tags": []
   },
   "outputs": [],
   "source": [
    " "
   ]
  },
  {
   "cell_type": "code",
   "execution_count": null,
   "metadata": {
    "tags": []
   },
   "outputs": [],
   "source": []
  },
  {
   "cell_type": "code",
   "execution_count": null,
   "metadata": {},
   "outputs": [],
   "source": []
  },
  {
   "cell_type": "code",
   "execution_count": null,
   "metadata": {},
   "outputs": [],
   "source": []
  }
 ],
 "metadata": {
  "kernelspec": {
   "display_name": "Python 3 (ipykernel)",
   "language": "python",
   "name": "python3"
  },
  "language_info": {
   "codemirror_mode": {
    "name": "ipython",
    "version": 3
   },
   "file_extension": ".py",
   "mimetype": "text/x-python",
   "name": "python",
   "nbconvert_exporter": "python",
   "pygments_lexer": "ipython3",
   "version": "3.11.4"
  }
 },
 "nbformat": 4,
 "nbformat_minor": 4
}
