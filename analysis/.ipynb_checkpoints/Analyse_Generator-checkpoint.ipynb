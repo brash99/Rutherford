{
 "cells": [
  {
   "cell_type": "code",
   "execution_count": 1,
   "metadata": {
    "tags": []
   },
   "outputs": [
    {
     "name": "stdout",
     "output_type": "stream",
     "text": [
      "Welcome to JupyROOT 6.26/06\n"
     ]
    }
   ],
   "source": [
    "import ROOT as root\n",
    "import numpy as np\n",
    "import matplotlib.pyplot as plt\n",
    "import pandas as pd\n",
    "import random"
   ]
  },
  {
   "cell_type": "code",
   "execution_count": 2,
   "metadata": {
    "tags": []
   },
   "outputs": [
    {
     "name": "stdout",
     "output_type": "stream",
     "text": [
      "TFile**\t\tbatch/data/AnaBarMC_Gen_4000.root\tfROOTfile\n",
      " TFile*\t\tbatch/data/AnaBarMC_Gen_4000.root\tfROOTfile\n",
      "  KEY: TTree\th1;1\tGenerator Output Tree\n",
      "======> EVENT:1\n",
      " X_vtx           = 29.956\n",
      " Y_vtx           = 21.1193\n",
      " Z_vtx           = 145.003\n",
      " Px_p            = 270.092\n",
      " Py_p            = -3959.12\n",
      " Pz_p            = 1489.52\n",
      " En_p            = 4238.66\n",
      " Mass            = 0.510999\n",
      " PDG             = 11\n",
      "******************************************************************************\n",
      "*Tree    :h1        : Generator Output Tree                                  *\n",
      "*Entries :      500 : Total =           23410 bytes  File  Size =      11672 *\n",
      "*        :          : Tree compression factor =   1.72                       *\n",
      "******************************************************************************\n",
      "*Br    0 :X_vtx     : X_vtx/F                                                *\n",
      "*Entries :      500 : Total  Size=       2559 bytes  File Size  =       1550 *\n",
      "*Baskets :        1 : Basket Size=      64000 bytes  Compression=   1.34     *\n",
      "*............................................................................*\n",
      "*Br    1 :Y_vtx     : Y_vtx/F                                                *\n",
      "*Entries :      500 : Total  Size=       2559 bytes  File Size  =       1401 *\n",
      "*Baskets :        1 : Basket Size=      64000 bytes  Compression=   1.48     *\n",
      "*............................................................................*\n",
      "*Br    2 :Z_vtx     : Z_vtx/F                                                *\n",
      "*Entries :      500 : Total  Size=       2559 bytes  File Size  =       1541 *\n",
      "*Baskets :        1 : Basket Size=      64000 bytes  Compression=   1.34     *\n",
      "*............................................................................*\n",
      "*Br    3 :Px_p      : Px_p/F                                                 *\n",
      "*Entries :      500 : Total  Size=       2554 bytes  File Size  =       1541 *\n",
      "*Baskets :        1 : Basket Size=      64000 bytes  Compression=   1.34     *\n",
      "*............................................................................*\n",
      "*Br    4 :Py_p      : Py_p/F                                                 *\n",
      "*Entries :      500 : Total  Size=       2554 bytes  File Size  =       1465 *\n",
      "*Baskets :        1 : Basket Size=      64000 bytes  Compression=   1.41     *\n",
      "*............................................................................*\n",
      "*Br    5 :Pz_p      : Pz_p/F                                                 *\n",
      "*Entries :      500 : Total  Size=       2554 bytes  File Size  =       1531 *\n",
      "*Baskets :        1 : Basket Size=      64000 bytes  Compression=   1.35     *\n",
      "*............................................................................*\n",
      "*Br    6 :En_p      : En_p/F                                                 *\n",
      "*Entries :      500 : Total  Size=       2554 bytes  File Size  =       1464 *\n",
      "*Baskets :        1 : Basket Size=      64000 bytes  Compression=   1.41     *\n",
      "*............................................................................*\n",
      "*Br    7 :Mass      : Mass/F                                                 *\n",
      "*Entries :      500 : Total  Size=       2554 bytes  File Size  =        160 *\n",
      "*Baskets :        1 : Basket Size=      64000 bytes  Compression=  12.93     *\n",
      "*............................................................................*\n",
      "*Br    8 :PDG       : PDG/I                                                  *\n",
      "*Entries :      500 : Total  Size=       2549 bytes  File Size  =        182 *\n",
      "*Baskets :        1 : Basket Size=      64000 bytes  Compression=  11.36     *\n",
      "*............................................................................*\n"
     ]
    }
   ],
   "source": [
    "f = root.TFile(\"batch/data/AnaBarMC_Gen_4000.root\")\n",
    "f.ls()\n",
    "\n",
    "myTree = f.Get(\"h1\")\n",
    "\n",
    "entries = myTree.GetEntriesFast()\n",
    "\n",
    "myTree.Show(1)\n",
    "myTree.Print()"
   ]
  },
  {
   "cell_type": "code",
   "execution_count": 3,
   "metadata": {
    "tags": []
   },
   "outputs": [
    {
     "name": "stdout",
     "output_type": "stream",
     "text": [
      "TFile**\t\tbatch/data/AnaBarMC_Gen_4001.root\tfROOTfile\n",
      " TFile*\t\tbatch/data/AnaBarMC_Gen_4001.root\tfROOTfile\n",
      "  KEY: TTree\th1;1\tGenerator Output Tree\n",
      "======> EVENT:50\n",
      " X_vtx           = -20.976\n",
      " Y_vtx           = 20\n",
      " Z_vtx           = -76.8212\n",
      " Px_p            = -174.848\n",
      " Py_p            = -3751.02\n",
      " Pz_p            = -640.351\n",
      " En_p            = 3809.3\n",
      " Mass            = 0.510999\n",
      " PDG             = 11\n",
      "******************************************************************************\n",
      "*Tree    :h1        : Generator Output Tree                                  *\n",
      "*Entries :      500 : Total =           23410 bytes  File  Size =      12712 *\n",
      "*        :          : Tree compression factor =   1.57                       *\n",
      "******************************************************************************\n",
      "*Br    0 :X_vtx     : X_vtx/F                                                *\n",
      "*Entries :      500 : Total  Size=       2559 bytes  File Size  =       1978 *\n",
      "*Baskets :        1 : Basket Size=      64000 bytes  Compression=   1.05     *\n",
      "*............................................................................*\n",
      "*Br    1 :Y_vtx     : Y_vtx/F                                                *\n",
      "*Entries :      500 : Total  Size=       2559 bytes  File Size  =        112 *\n",
      "*Baskets :        1 : Basket Size=      64000 bytes  Compression=  18.48     *\n",
      "*............................................................................*\n",
      "*Br    2 :Z_vtx     : Z_vtx/F                                                *\n",
      "*Entries :      500 : Total  Size=       2559 bytes  File Size  =       1975 *\n",
      "*Baskets :        1 : Basket Size=      64000 bytes  Compression=   1.05     *\n",
      "*............................................................................*\n",
      "*Br    3 :Px_p      : Px_p/F                                                 *\n",
      "*Entries :      500 : Total  Size=       2554 bytes  File Size  =       1974 *\n",
      "*Baskets :        1 : Basket Size=      64000 bytes  Compression=   1.05     *\n",
      "*............................................................................*\n",
      "*Br    4 :Py_p      : Py_p/F                                                 *\n",
      "*Entries :      500 : Total  Size=       2554 bytes  File Size  =       1822 *\n",
      "*Baskets :        1 : Basket Size=      64000 bytes  Compression=   1.14     *\n",
      "*............................................................................*\n",
      "*Br    5 :Pz_p      : Pz_p/F                                                 *\n",
      "*Entries :      500 : Total  Size=       2554 bytes  File Size  =       1958 *\n",
      "*Baskets :        1 : Basket Size=      64000 bytes  Compression=   1.06     *\n",
      "*............................................................................*\n",
      "*Br    6 :En_p      : En_p/F                                                 *\n",
      "*Entries :      500 : Total  Size=       2554 bytes  File Size  =       1828 *\n",
      "*Baskets :        1 : Basket Size=      64000 bytes  Compression=   1.13     *\n",
      "*............................................................................*\n",
      "*Br    7 :Mass      : Mass/F                                                 *\n",
      "*Entries :      500 : Total  Size=       2554 bytes  File Size  =        111 *\n",
      "*Baskets :        1 : Basket Size=      64000 bytes  Compression=  18.64     *\n",
      "*............................................................................*\n",
      "*Br    8 :PDG       : PDG/I                                                  *\n",
      "*Entries :      500 : Total  Size=       2549 bytes  File Size  =        110 *\n",
      "*Baskets :        1 : Basket Size=      64000 bytes  Compression=  18.80     *\n",
      "*............................................................................*\n"
     ]
    }
   ],
   "source": [
    "f = root.TFile(\"batch/data/AnaBarMC_Gen_4001.root\")\n",
    "f.ls()\n",
    "\n",
    "myTree = f.Get(\"h1\")\n",
    "\n",
    "entries = myTree.GetEntriesFast()\n",
    "\n",
    "myTree.Show(50)\n",
    "myTree.Print()"
   ]
  },
  {
   "cell_type": "code",
   "execution_count": null,
   "metadata": {
    "tags": []
   },
   "outputs": [],
   "source": [
    " "
   ]
  },
  {
   "cell_type": "code",
   "execution_count": null,
   "metadata": {
    "tags": []
   },
   "outputs": [],
   "source": []
  },
  {
   "cell_type": "code",
   "execution_count": null,
   "metadata": {},
   "outputs": [],
   "source": []
  },
  {
   "cell_type": "code",
   "execution_count": null,
   "metadata": {},
   "outputs": [],
   "source": []
  }
 ],
 "metadata": {
  "kernelspec": {
   "display_name": "Python 3",
   "language": "python",
   "name": "python3"
  },
  "language_info": {
   "codemirror_mode": {
    "name": "ipython",
    "version": 3
   },
   "file_extension": ".py",
   "mimetype": "text/x-python",
   "name": "python",
   "nbconvert_exporter": "python",
   "pygments_lexer": "ipython3",
   "version": "3.6.8"
  }
 },
 "nbformat": 4,
 "nbformat_minor": 4
}
